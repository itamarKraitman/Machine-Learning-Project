{
 "cells": [
  {
   "cell_type": "markdown",
   "metadata": {},
   "source": [
    "## Question 1.A\n",
    "<br>we need to calculate the probability of Elvis as a identical tween:\n",
    "<br>the probability of identical twins is 1/300 and the probability of non-identical twins is 1/125.\n",
    "<br>P(A|B)=(P(B|A)*P(A))/(B).\n",
    "<br>A - identical twins, B - twins.\n",
    "<br>P(B|A) - The probabilty of twins given there are identical twins is 1. becasue if there are identical twins, in particaular they are twins.\n",
    "<br>P(A) - 1/300.\n",
    "<br>P(B) - 1/125 + 1/300 = 17/1500.\n",
    "<br>so - (1 * 1/300) / (17/1500) = 5/17 => that's the probability of Elvis to be identical twin.\n",
    "in oreder to find the probability of being identical twin brother we should multiply the result by 1/2 which gives us <r><br>\n",
    "<B>5/34<B>.\n"
   ]
  },
  {
   "cell_type": "markdown",
   "metadata": {},
   "source": [
    "## Qestion 1.B\n",
    "<br>In bowl 1 there are 40 cookies- 30 are chocolate coockies and 10 are elmonds coockies. \n",
    "<br>in bowl 2 there are 40 coockies as well- 20 are chocolate coockies and 20 are elmonds coockies. \n",
    "<br>3/4 of the coockies in bowl 1 are chocolate coockies.\n",
    "<br>1/2 of the coockies in bowl 2 are chocolate coockies.\n",
    "<br>B - chocolate coockies represent 5/8 of the coockies.\n",
    "<br>A - picking bowl number 1 => 1/2.\n",
    "<br>P(chocolate | bowl 1) = 3/4 * 0.5 => 3/8.\n",
    "<br>P(chocolate) = 5/8.\n",
    "<br>(3/8) / (5/8) = 3/5.\n",
    "<br><B>P(A|B) = (P(B|A) * P(A)) / P(B) => (3/8 * 1/2) / 5/8 = 12/25 => 48%"
   ]
  },
  {
   "cell_type": "markdown",
   "metadata": {},
   "source": [
    "## Question 2\n",
    "<br>1994 bag - 0.2 yellow, 0.1 green.\n",
    "<br>1996- 0.14 yellow, 0.2 green.\n",
    "<br>I have two option: 1. yellow from 1996 and green from 1994 or yellow from 1994 and green from 1996.\n",
    "<br>so: P(yellow 1994,green 1996) + P(yellow 1996,green 1994)\n",
    "<br>=> P(0.2*0.1) + P(0.14*0.2) = 6/125\n",
    "<br>I nedd to find the probability of yellow from 1994 so i need to multiply the result in 0.5:\n",
    "<br><B>=> 6/125 * 0.5 = 3/125."
   ]
  },
  {
   "cell_type": "markdown",
   "metadata": {},
   "source": [
    "## Question 3.A\n",
    "<br>* 1 of 10000 is sick - 1/10000\n",
    "<br>* probability to classify healthy as sick - 1%\n",
    "<br>* probability to classify sick as healthy - 0%\n",
    "<br>probability to be sick =>\n",
    "P(sick|positive):\n",
    " (P(sick|positive) * P(sick)) / P(positive)\n",
    "<br>=> (1 * 1/10000) / P(positive)\n",
    "<br>=> P(positive) = P(positive|sick)P(sick) + P(positive|healthy)P(healthy)\n",
    "<br>=> 1 * 1/10000 + 0.01 * 9999/100000 = 0.010099\n",
    "<br>=> (1 * 1/10000) / 0.010099 = <B>0.0099108<B>\n",
    "\n"
   ]
  },
  {
   "cell_type": "markdown",
   "metadata": {},
   "source": [
    "## Question 3.B\n",
    "<br>P(sick|positive) = (P(positive|sick)P(sick)) / P(positive)\n",
    "<br>=> P(positive|sick) = 1\n",
    "<br>P(sick) = 1/200\n",
    "<br>P(positive) = P(positive|sick)P(sick) + P(positive|healthy)P(healthy)\n",
    "<br>= (1 * 1/200) + (0.01 * 9999/10000) = <B>0.014999<B>"
   ]
  },
  {
   "cell_type": "markdown",
   "metadata": {},
   "source": [
    "## Random Variables:"
   ]
  },
  {
   "cell_type": "markdown",
   "metadata": {},
   "source": [
    "## Question 1\n",
    "<br>probability to sum divisible by 3: 12/36 = 1/3\n",
    "<br>probability to sum not divisible 3: 24/36 = 2/3\n",
    "<br>Expected value formula is: $\\sum{P(X)*X}$\n",
    "<br>=> P(divisible by 3) * 6 + P(not divisible by 3) * (-3)}\n",
    "<br>=> 1/3 * 6 + (-3) * 2/3 = <B>0<B>"
   ]
  },
  {
   "cell_type": "markdown",
   "metadata": {},
   "source": [
    "## Question 2\n",
    "<br>* above 12: 6/25\n",
    "<br>* below 12: 15/25\n",
    "<br>* exactly 12: 4/25\n",
    "<br>Expected value formula is: $\\sum{P(X)*X}$\n",
    "<br>so: (6/25 * 5) + (4/25 * 0) + (15/25 * (-6)) = <B>-12/5<B> "
   ]
  },
  {
   "cell_type": "markdown",
   "metadata": {},
   "source": [
    "## Question 3\n",
    "<br>40% of the employees are male, there are 200 employees, meaning there are 80 male employees.\n",
    "<br>* the mean is: probability to get male * how many employees are selcted each month\n",
    "<br>=> 0.4 * 8 = 3.2 = <B>16/5 (mean)<B>\n"
   ]
  },
  {
   "cell_type": "markdown",
   "metadata": {},
   "source": [
    "## Question 4\n",
    "mean: 26,000\n",
    "<br>standard deviation: 2,000\n",
    "<br>according 68-95-99.7 rule, 68% are in 1 standrad deviation, which means: \n",
    "<br>P(26,000<x<28,000) = 0.68\n",
    "<br>In addition, 95% are in 2 standard deviation, which means:\n",
    "<br>P(28,000<x<30,000) = 0.95\n",
    "<br>(0.68 + 0.95) / 2 = <B>0.815<B> "
   ]
  },
  {
   "cell_type": "markdown",
   "metadata": {},
   "source": [
    "## Question 5\n",
    "<br>In order to find P(X>3) I'll calculate the area of the triangle of 3<x<5 with h as 0.4:\n",
    "<br>(2 * 0.4) / 2 = <B>0.4<B>"
   ]
  },
  {
   "cell_type": "markdown",
   "metadata": {},
   "source": [
    "## Question 6\n",
    "<br>60% of the 500 employees have children which are = 300 employees\n",
    "<br>so: 300/500 have children, 200/500 don't have children\n",
    "<br>we select randomly 4 employees, the probability to select exactly 3 employees that have children is: \n",
    "<br>P(no children)*P(have children)*P(have children)*P(have children)\n",
    "<br>=> 200/500 * 300/500 * 299/500 * 298/500 = 0.0855"
   ]
  },
  {
   "cell_type": "markdown",
   "metadata": {},
   "source": [
    "## Question 7\n",
    "Expected value formula is: $\\sum{P(X)*X}$.\n",
    "<br>so in order to find the expected value of x according the graph we should calculate:\n",
    "<br> $\\sum{P(X)*X}$= (-10) * 0.1 + (-5) * 0.35 + 0*0.1 + 5 * 0.35 + 10 * 0.1 = <B>0<B> "
   ]
  },
  {
   "cell_type": "code",
   "execution_count": null,
   "metadata": {},
   "outputs": [],
   "source": []
  }
 ],
 "metadata": {
  "kernelspec": {
   "display_name": "Python 3",
   "language": "python",
   "name": "python3"
  },
  "language_info": {
   "codemirror_mode": {
    "name": "ipython",
    "version": 3
   },
   "file_extension": ".py",
   "mimetype": "text/x-python",
   "name": "python",
   "nbconvert_exporter": "python",
   "pygments_lexer": "ipython3",
   "version": "3.8.3"
  }
 },
 "nbformat": 4,
 "nbformat_minor": 4
}
