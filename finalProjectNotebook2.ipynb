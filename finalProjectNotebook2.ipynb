{
 "cells": [
  {
   "cell_type": "code",
   "execution_count": 1,
   "metadata": {},
   "outputs": [
    {
     "name": "stdout",
     "output_type": "stream",
     "text": [
      "enter number:\n",
      "2\n",
      "01\n"
     ]
    }
   ],
   "source": [
    "#Q1 from decimal to binary\n",
    "print(\"enter number:\")\n",
    "number = int(input())\n",
    "ans = \"\"\n",
    "while number > 0:\n",
    "    number_2_base = number % 2\n",
    "    ans = ans + str(number_2_base)\n",
    "    number = number // 2\n",
    "print(ans)"
   ]
  },
  {
   "cell_type": "code",
   "execution_count": 2,
   "metadata": {},
   "outputs": [
    {
     "name": "stdout",
     "output_type": "stream",
     "text": [
      "Enter number:\n",
      "45\n",
      "55\n"
     ]
    }
   ],
   "source": [
    "#from decimal to octaly\n",
    "print(\"Enter number:\")\n",
    "number = int(input())\n",
    "ans = \"\"\n",
    "while number > 0:\n",
    "    number_8_base = number % 8\n",
    "    ans = str(number_8_base) + ans\n",
    "    number = number // 8\n",
    "print(ans)"
   ]
  },
  {
   "cell_type": "code",
   "execution_count": 3,
   "metadata": {},
   "outputs": [
    {
     "name": "stdout",
     "output_type": "stream",
     "text": [
      "Enter number:\n",
      "65655\n",
      "10077\n"
     ]
    }
   ],
   "source": [
    "#from decimal to exadecimal\n",
    "print(\"Enter number:\")\n",
    "number = int(input())\n",
    "ans = \"\"\n",
    "while number > 0:\n",
    "    number_16_base = number % 16\n",
    "    if number_16_base == 10:\n",
    "        number_16_base = 'A'\n",
    "    if number_16_base == 11:\n",
    "        number_16_base = 'B'\n",
    "    if number_16_base == 12:\n",
    "        number_16_base = 'C'\n",
    "    if number_16_base == 13:\n",
    "        number_16_base = 'D'\n",
    "    if number_16_base == 14:\n",
    "        number_16_base = 'E'\n",
    "    if number_16_base == 15:\n",
    "        number_16_base = 'F'\n",
    "    if number_16_base == 16:\n",
    "        number_16_base = 10\n",
    "    ans = str(number_16_base) + ans\n",
    "    number = number // 16\n",
    "print(ans)"
   ]
  },
  {
   "cell_type": "code",
   "execution_count": 200,
   "metadata": {},
   "outputs": [],
   "source": [
    "import pandas as pd\n",
    "import numpy as np\n",
    "import math"
   ]
  },
  {
   "cell_type": "code",
   "execution_count": 268,
   "metadata": {},
   "outputs": [
    {
     "data": {
      "text/html": [
       "<div>\n",
       "<style scoped>\n",
       "    .dataframe tbody tr th:only-of-type {\n",
       "        vertical-align: middle;\n",
       "    }\n",
       "\n",
       "    .dataframe tbody tr th {\n",
       "        vertical-align: top;\n",
       "    }\n",
       "\n",
       "    .dataframe thead th {\n",
       "        text-align: right;\n",
       "    }\n",
       "</style>\n",
       "<table border=\"1\" class=\"dataframe\">\n",
       "  <thead>\n",
       "    <tr style=\"text-align: right;\">\n",
       "      <th></th>\n",
       "      <th>title</th>\n",
       "      <th>year</th>\n",
       "      <th>name</th>\n",
       "      <th>type</th>\n",
       "      <th>character</th>\n",
       "      <th>n</th>\n",
       "    </tr>\n",
       "  </thead>\n",
       "  <tbody>\n",
       "    <tr>\n",
       "      <th>0</th>\n",
       "      <td>Suuri illusioni</td>\n",
       "      <td>1985</td>\n",
       "      <td>Homo $</td>\n",
       "      <td>actor</td>\n",
       "      <td>Guests</td>\n",
       "      <td>22.0</td>\n",
       "    </tr>\n",
       "    <tr>\n",
       "      <th>1</th>\n",
       "      <td>Gangsta Rap: The Glockumentary</td>\n",
       "      <td>2007</td>\n",
       "      <td>Too $hort</td>\n",
       "      <td>actor</td>\n",
       "      <td>Himself</td>\n",
       "      <td>NaN</td>\n",
       "    </tr>\n",
       "    <tr>\n",
       "      <th>2</th>\n",
       "      <td>Menace II Society</td>\n",
       "      <td>1993</td>\n",
       "      <td>Too $hort</td>\n",
       "      <td>actor</td>\n",
       "      <td>Lew-Loc</td>\n",
       "      <td>27.0</td>\n",
       "    </tr>\n",
       "    <tr>\n",
       "      <th>3</th>\n",
       "      <td>Porndogs: The Adventures of Sadie</td>\n",
       "      <td>2009</td>\n",
       "      <td>Too $hort</td>\n",
       "      <td>actor</td>\n",
       "      <td>Bosco</td>\n",
       "      <td>3.0</td>\n",
       "    </tr>\n",
       "    <tr>\n",
       "      <th>4</th>\n",
       "      <td>Stop Pepper Palmer</td>\n",
       "      <td>2014</td>\n",
       "      <td>Too $hort</td>\n",
       "      <td>actor</td>\n",
       "      <td>Himself</td>\n",
       "      <td>NaN</td>\n",
       "    </tr>\n",
       "  </tbody>\n",
       "</table>\n",
       "</div>"
      ],
      "text/plain": [
       "                               title  year       name   type character     n\n",
       "0                    Suuri illusioni  1985     Homo $  actor    Guests  22.0\n",
       "1     Gangsta Rap: The Glockumentary  2007  Too $hort  actor   Himself   NaN\n",
       "2                  Menace II Society  1993  Too $hort  actor   Lew-Loc  27.0\n",
       "3  Porndogs: The Adventures of Sadie  2009  Too $hort  actor     Bosco   3.0\n",
       "4                 Stop Pepper Palmer  2014  Too $hort  actor   Himself   NaN"
      ]
     },
     "execution_count": 268,
     "metadata": {},
     "output_type": "execute_result"
    }
   ],
   "source": [
    "cast = pd.read_csv(r'C:\\Users\\meirk\\Desktop\\Ariel\\data_sceince\\cast.csv')\n",
    "cast.head()"
   ]
  },
  {
   "cell_type": "markdown",
   "metadata": {},
   "source": [
    "## Question 2"
   ]
  },
  {
   "cell_type": "code",
   "execution_count": 154,
   "metadata": {},
   "outputs": [
    {
     "name": "stdout",
     "output_type": "stream",
     "text": [
      "number of Hamlet films is:  299\n"
     ]
    }
   ],
   "source": [
    "#Question 1\n",
    "is_Hamlet = cast['title'] == 'Hamlet'\n",
    "hamlet1 = sum(is_Hamlet)\n",
    "print(\"number of \"\"Hamlet\"\" films is: \", hamlet1)"
   ]
  },
  {
   "cell_type": "code",
   "execution_count": 180,
   "metadata": {},
   "outputs": [
    {
     "data": {
      "text/html": [
       "<div>\n",
       "<style scoped>\n",
       "    .dataframe tbody tr th:only-of-type {\n",
       "        vertical-align: middle;\n",
       "    }\n",
       "\n",
       "    .dataframe tbody tr th {\n",
       "        vertical-align: top;\n",
       "    }\n",
       "\n",
       "    .dataframe thead th {\n",
       "        text-align: right;\n",
       "    }\n",
       "</style>\n",
       "<table border=\"1\" class=\"dataframe\">\n",
       "  <thead>\n",
       "    <tr style=\"text-align: right;\">\n",
       "      <th></th>\n",
       "      <th>title</th>\n",
       "      <th>year</th>\n",
       "      <th>name</th>\n",
       "      <th>type</th>\n",
       "      <th>character</th>\n",
       "      <th>n</th>\n",
       "    </tr>\n",
       "  </thead>\n",
       "  <tbody>\n",
       "    <tr>\n",
       "      <th>313097</th>\n",
       "      <td>Treasure Island</td>\n",
       "      <td>1918</td>\n",
       "      <td>Francis Carpenter</td>\n",
       "      <td>actor</td>\n",
       "      <td>Jim Hawkins</td>\n",
       "      <td>1.0</td>\n",
       "    </tr>\n",
       "    <tr>\n",
       "      <th>345942</th>\n",
       "      <td>Treasure Island</td>\n",
       "      <td>1920</td>\n",
       "      <td>Lon Chaney</td>\n",
       "      <td>actor</td>\n",
       "      <td>Blind Pew</td>\n",
       "      <td>5.0</td>\n",
       "    </tr>\n",
       "    <tr>\n",
       "      <th>8570</th>\n",
       "      <td>Treasure Island</td>\n",
       "      <td>1934</td>\n",
       "      <td>Robert Adair</td>\n",
       "      <td>actor</td>\n",
       "      <td>Tom - Seaman</td>\n",
       "      <td>NaN</td>\n",
       "    </tr>\n",
       "    <tr>\n",
       "      <th>12141</th>\n",
       "      <td>Treasure Island</td>\n",
       "      <td>1950</td>\n",
       "      <td>Chris Adcock</td>\n",
       "      <td>actor</td>\n",
       "      <td>Pike</td>\n",
       "      <td>26.0</td>\n",
       "    </tr>\n",
       "    <tr>\n",
       "      <th>38151</th>\n",
       "      <td>Treasure Island</td>\n",
       "      <td>1972</td>\n",
       "      <td>Cristino Almod?var</td>\n",
       "      <td>actor</td>\n",
       "      <td>O'Brien</td>\n",
       "      <td>18.0</td>\n",
       "    </tr>\n",
       "    <tr>\n",
       "      <th>484325</th>\n",
       "      <td>Treasure Island</td>\n",
       "      <td>1973</td>\n",
       "      <td>Richard Dawson</td>\n",
       "      <td>actor</td>\n",
       "      <td>Long John Silver</td>\n",
       "      <td>1.0</td>\n",
       "    </tr>\n",
       "    <tr>\n",
       "      <th>14899</th>\n",
       "      <td>Treasure Island</td>\n",
       "      <td>1985</td>\n",
       "      <td>Yves Afonso</td>\n",
       "      <td>actor</td>\n",
       "      <td>French captain</td>\n",
       "      <td>8.0</td>\n",
       "    </tr>\n",
       "    <tr>\n",
       "      <th>104905</th>\n",
       "      <td>Treasure Island</td>\n",
       "      <td>1999</td>\n",
       "      <td>Lance (II) Baker</td>\n",
       "      <td>actor</td>\n",
       "      <td>Frank</td>\n",
       "      <td>1.0</td>\n",
       "    </tr>\n",
       "  </tbody>\n",
       "</table>\n",
       "</div>"
      ],
      "text/plain": [
       "                  title  year                name   type         character  \\\n",
       "313097  Treasure Island  1918   Francis Carpenter  actor       Jim Hawkins   \n",
       "345942  Treasure Island  1920          Lon Chaney  actor        Blind Pew    \n",
       "8570    Treasure Island  1934        Robert Adair  actor      Tom - Seaman   \n",
       "12141   Treasure Island  1950        Chris Adcock  actor              Pike   \n",
       "38151   Treasure Island  1972  Cristino Almod?var  actor           O'Brien   \n",
       "484325  Treasure Island  1973      Richard Dawson  actor  Long John Silver   \n",
       "14899   Treasure Island  1985         Yves Afonso  actor    French captain   \n",
       "104905  Treasure Island  1999    Lance (II) Baker  actor             Frank   \n",
       "\n",
       "           n  \n",
       "313097   1.0  \n",
       "345942   5.0  \n",
       "8570     NaN  \n",
       "12141   26.0  \n",
       "38151   18.0  \n",
       "484325   1.0  \n",
       "14899    8.0  \n",
       "104905   1.0  "
      ]
     },
     "execution_count": 180,
     "metadata": {},
     "output_type": "execute_result"
    }
   ],
   "source": [
    "#Question 2\n",
    "q_2 = cast.groupby(['title'])\n",
    "treasure = q_2.get_group('Treasure Island')\n",
    "treasureIsland = treasure.drop_duplicates(subset = 'year')\n",
    "sortedTreasure = treasureIsland.sort_values(by = 'year')\n",
    "sortedTreasure"
   ]
  },
  {
   "cell_type": "code",
   "execution_count": 190,
   "metadata": {},
   "outputs": [
    {
     "data": {
      "text/plain": [
       "9"
      ]
     },
     "execution_count": 190,
     "metadata": {},
     "output_type": "execute_result"
    }
   ],
   "source": [
    "#Question 3\n",
    "hamlet1921 = (cast['title'] == 'Hamlet') & (cast['year'] == 1921)\n",
    "sum(hamlet1921)"
   ]
  },
  {
   "cell_type": "code",
   "execution_count": 214,
   "metadata": {},
   "outputs": [
    {
     "data": {
      "text/plain": [
       "<matplotlib.axes._subplots.AxesSubplot at 0x20c675266a0>"
      ]
     },
     "execution_count": 214,
     "metadata": {},
     "output_type": "execute_result"
    },
    {
     "data": {
      "image/png": "[encoded data removed]",
      "text/plain": [
       "<Figure size 432x288 with 1 Axes>"
      ]
     },
     "metadata": {
      "needs_background": "light"
     },
     "output_type": "display_data"
    }
   ],
   "source": [
    "#Question 4\n",
    "hamlet2 = q_2.get_group('Hamlet')\n",
    "hamlet3 = hamlet2.drop_duplicates(subset = 'year')\n",
    "hamletDecade = hamlet3.groupby((hamlet3['year']//10)*10)\n",
    "hamletDecade.size().plot(kind = 'bar', title = \"Hmalet films of each decade\")"
   ]
  },
  {
   "cell_type": "code",
   "execution_count": 245,
   "metadata": {},
   "outputs": [
    {
     "name": "stdout",
     "output_type": "stream",
     "text": [
      "roles for actors:  6388 \n",
      "roles for acresses:  2813\n"
     ]
    },
    {
     "data": {
      "text/plain": [
       "6388"
      ]
     },
     "execution_count": 245,
     "metadata": {},
     "output_type": "execute_result"
    }
   ],
   "source": [
    "#Qestion 5\n",
    "decades = cast.groupby((cast['year']//10)*10)\n",
    "dec50s = decades.get_group(1950)\n",
    "actress50s = (dec50s['type'] == 'actress') & (dec50s['n'] == 1)\n",
    "actors50s = (dec50s['type'] == 'actor') & (dec50s['n'] == 1)\n",
    "print(\"roles for actors: \", sum(actors50s), \"\\nroles for acresses: \", sum(actress50s))"
   ]
  },
  {
   "cell_type": "code",
   "execution_count": 274,
   "metadata": {},
   "outputs": [
    {
     "data": {
      "text/html": [
       "<div>\n",
       "<style scoped>\n",
       "    .dataframe tbody tr th:only-of-type {\n",
       "        vertical-align: middle;\n",
       "    }\n",
       "\n",
       "    .dataframe tbody tr th {\n",
       "        vertical-align: top;\n",
       "    }\n",
       "\n",
       "    .dataframe thead th {\n",
       "        text-align: right;\n",
       "    }\n",
       "</style>\n",
       "<table border=\"1\" class=\"dataframe\">\n",
       "  <thead>\n",
       "    <tr style=\"text-align: right;\">\n",
       "      <th></th>\n",
       "      <th>title</th>\n",
       "      <th>year</th>\n",
       "      <th>name</th>\n",
       "      <th>type</th>\n",
       "      <th>character</th>\n",
       "      <th>n</th>\n",
       "    </tr>\n",
       "  </thead>\n",
       "  <tbody>\n",
       "    <tr>\n",
       "      <th>2938172</th>\n",
       "      <td>The Lion's Den</td>\n",
       "      <td>2015</td>\n",
       "      <td>Julia (IV) Morrison</td>\n",
       "      <td>actress</td>\n",
       "      <td>Marie</td>\n",
       "      <td>1.0</td>\n",
       "    </tr>\n",
       "    <tr>\n",
       "      <th>719391</th>\n",
       "      <td>Murder-Set-Pieces</td>\n",
       "      <td>2004</td>\n",
       "      <td>Sven Garrett</td>\n",
       "      <td>actor</td>\n",
       "      <td>The Photographer</td>\n",
       "      <td>1.0</td>\n",
       "    </tr>\n",
       "    <tr>\n",
       "      <th>1434255</th>\n",
       "      <td>Come te nessuno mai</td>\n",
       "      <td>1999</td>\n",
       "      <td>Silvio Muccino</td>\n",
       "      <td>actor</td>\n",
       "      <td>Silvio Ristuccia</td>\n",
       "      <td>1.0</td>\n",
       "    </tr>\n",
       "    <tr>\n",
       "      <th>213286</th>\n",
       "      <td>Los locos, locos carrozas</td>\n",
       "      <td>1984</td>\n",
       "      <td>Joan Borr?s</td>\n",
       "      <td>actor</td>\n",
       "      <td>Juan Noguera Flori</td>\n",
       "      <td>1.0</td>\n",
       "    </tr>\n",
       "    <tr>\n",
       "      <th>1434261</th>\n",
       "      <td>Le leggi del desiderio</td>\n",
       "      <td>2015</td>\n",
       "      <td>Silvio Muccino</td>\n",
       "      <td>actor</td>\n",
       "      <td>Giovanni Canton</td>\n",
       "      <td>1.0</td>\n",
       "    </tr>\n",
       "    <tr>\n",
       "      <th>3235525</th>\n",
       "      <td>Dakarguli samotkhe</td>\n",
       "      <td>1938</td>\n",
       "      <td>Dudukhana Tserodze</td>\n",
       "      <td>actress</td>\n",
       "      <td>Pepela</td>\n",
       "      <td>1.0</td>\n",
       "    </tr>\n",
       "    <tr>\n",
       "      <th>1434263</th>\n",
       "      <td>Parlami d'amore</td>\n",
       "      <td>2008</td>\n",
       "      <td>Silvio Muccino</td>\n",
       "      <td>actor</td>\n",
       "      <td>Sasha</td>\n",
       "      <td>1.0</td>\n",
       "    </tr>\n",
       "    <tr>\n",
       "      <th>1434265</th>\n",
       "      <td>Un altro mondo</td>\n",
       "      <td>2010</td>\n",
       "      <td>Silvio Muccino</td>\n",
       "      <td>actor</td>\n",
       "      <td>Andrea</td>\n",
       "      <td>1.0</td>\n",
       "    </tr>\n",
       "    <tr>\n",
       "      <th>719421</th>\n",
       "      <td>Non ho tempo</td>\n",
       "      <td>1973</td>\n",
       "      <td>Mario Garriba</td>\n",
       "      <td>actor</td>\n",
       "      <td>Evariste Galois</td>\n",
       "      <td>1.0</td>\n",
       "    </tr>\n",
       "    <tr>\n",
       "      <th>213299</th>\n",
       "      <td>Puzzled Love</td>\n",
       "      <td>2010</td>\n",
       "      <td>Marcel Borr?s</td>\n",
       "      <td>actor</td>\n",
       "      <td>Lucas</td>\n",
       "      <td>1.0</td>\n",
       "    </tr>\n",
       "  </tbody>\n",
       "</table>\n",
       "</div>"
      ],
      "text/plain": [
       "                             title  year                 name     type  \\\n",
       "2938172             The Lion's Den  2015  Julia (IV) Morrison  actress   \n",
       "719391           Murder-Set-Pieces  2004         Sven Garrett    actor   \n",
       "1434255        Come te nessuno mai  1999       Silvio Muccino    actor   \n",
       "213286   Los locos, locos carrozas  1984          Joan Borr?s    actor   \n",
       "1434261     Le leggi del desiderio  2015       Silvio Muccino    actor   \n",
       "3235525         Dakarguli samotkhe  1938   Dudukhana Tserodze  actress   \n",
       "1434263            Parlami d'amore  2008       Silvio Muccino    actor   \n",
       "1434265             Un altro mondo  2010       Silvio Muccino    actor   \n",
       "719421                Non ho tempo  1973        Mario Garriba    actor   \n",
       "213299                Puzzled Love  2010        Marcel Borr?s    actor   \n",
       "\n",
       "                  character    n  \n",
       "2938172               Marie  1.0  \n",
       "719391     The Photographer  1.0  \n",
       "1434255    Silvio Ristuccia  1.0  \n",
       "213286   Juan Noguera Flori  1.0  \n",
       "1434261     Giovanni Canton  1.0  \n",
       "3235525              Pepela  1.0  \n",
       "1434263               Sasha  1.0  \n",
       "1434265              Andrea  1.0  \n",
       "719421      Evariste Galois  1.0  \n",
       "213299                Lucas  1.0  "
      ]
     },
     "execution_count": 274,
     "metadata": {},
     "output_type": "execute_result"
    }
   ],
   "source": [
    "mostLeaders = cast.sort_values(by = 'n').head(10)\n",
    "mostLeaders"
   ]
  },
  {
   "cell_type": "code",
   "execution_count": null,
   "metadata": {},
   "outputs": [],
   "source": []
  },
  {
   "cell_type": "code",
   "execution_count": null,
   "metadata": {},
   "outputs": [],
   "source": []
  },
  {
   "cell_type": "code",
   "execution_count": null,
   "metadata": {},
   "outputs": [],
   "source": []
  },
  {
   "cell_type": "code",
   "execution_count": null,
   "metadata": {},
   "outputs": [],
   "source": []
  },
  {
   "cell_type": "code",
   "execution_count": null,
   "metadata": {},
   "outputs": [],
   "source": []
  },
  {
   "cell_type": "code",
   "execution_count": null,
   "metadata": {},
   "outputs": [],
   "source": []
  },
  {
   "cell_type": "code",
   "execution_count": null,
   "metadata": {},
   "outputs": [],
   "source": []
  }
 ],
 "metadata": {
  "kernelspec": {
   "display_name": "Python 3",
   "language": "python",
   "name": "python3"
  },
  "language_info": {
   "codemirror_mode": {
    "name": "ipython",
    "version": 3
   },
   "file_extension": ".py",
   "mimetype": "text/x-python",
   "name": "python",
   "nbconvert_exporter": "python",
   "pygments_lexer": "ipython3",
   "version": "3.8.3"
  }
 },
 "nbformat": 4,
 "nbformat_minor": 4
}
